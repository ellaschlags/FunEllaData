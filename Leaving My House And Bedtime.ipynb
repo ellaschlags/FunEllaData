{
 "cells": [
  {
   "cell_type": "code",
   "execution_count": 1,
   "id": "6e765ed0",
   "metadata": {},
   "outputs": [],
   "source": [
    "import numpy as np\n",
    "import pandas as pd\n",
    "import matplotlib.pyplot as plt"
   ]
  },
  {
   "cell_type": "code",
   "execution_count": 2,
   "id": "3e1b266c",
   "metadata": {},
   "outputs": [],
   "source": [
    "# Inputting my recorded times of leaving the house and when I went to bed the previous night\n",
    "\n",
    "house_leaving_times = [9.2, 8.55, 8.4, 9.1, 11.0, 9.05, 8.5]  # Time leaving the house (hours)\n",
    "bedtimes = [23.0, 22.3, 22.25, 23.0, 22.50, 23.25, 23.5]  # Time went to bed (hours)"
   ]
  },
  {
   "cell_type": "code",
   "execution_count": 3,
   "id": "d6c8e7b9",
   "metadata": {},
   "outputs": [],
   "source": [
    "# Calculate average and standard deviation\n",
    "\n",
    "leave_avg = np.mean(house_leaving_times)\n",
    "leave_std = np.std(house_leaving_times)\n",
    "bedtime_avg = np.mean(bedtimes)\n",
    "bedtime_std = np.std(bedtimes)"
   ]
  },
  {
   "cell_type": "code",
   "execution_count": 4,
   "id": "52d7a45d",
   "metadata": {},
   "outputs": [],
   "source": [
    "# Generate synthetic data points using normal distribution\n",
    "# I want 100 new data points for each\n",
    "synthetic_leave_times = np.random.normal(loc=leave_avg, scale=leave_std, size=100)\n",
    "synthetic_bedtimes = np.random.normal(loc=bedtime_avg, scale=bedtime_std, size=100)"
   ]
  },
  {
   "cell_type": "code",
   "execution_count": 5,
   "id": "0eb27c04",
   "metadata": {},
   "outputs": [],
   "source": [
    "# Combine into a dataframe \n",
    "data = pd.DataFrame({\n",
    "    'leave_time': synthetic_leave_times,\n",
    "    'bedtime': synthetic_bedtimes\n",
    "})"
   ]
  },
  {
   "cell_type": "code",
   "execution_count": 6,
   "id": "39179cf2",
   "metadata": {},
   "outputs": [
    {
     "data": {
      "image/png": "[encoded data removed]",
      "text/plain": [
       "<Figure size 432x288 with 1 Axes>"
      ]
     },
     "metadata": {
      "needs_background": "light"
     },
     "output_type": "display_data"
    }
   ],
   "source": [
    "# Plot the data distribution\n",
    "\n",
    "plt.hist(data['leave_time'], bins=10, alpha=0.5, label='House Leaving Times')\n",
    "plt.hist(data['bedtime'], bins=10, alpha=0.5, label='Bedtimes')\n",
    "plt.legend(loc='upper right')\n",
    "plt.xlabel('Time (hours)')\n",
    "plt.ylabel('Frequency')\n",
    "plt.title('Distribution of House Leaving and Bedtime')\n",
    "plt.show()"
   ]
  },
  {
   "cell_type": "code",
   "execution_count": 7,
   "id": "8636da31",
   "metadata": {},
   "outputs": [],
   "source": [
    "from scipy.stats import pearsonr\n",
    "from statsmodels.tsa.arima.model import ARIMA"
   ]
  },
  {
   "cell_type": "code",
   "execution_count": 8,
   "id": "95876858",
   "metadata": {},
   "outputs": [],
   "source": [
    "#Calculate correlation\n",
    "\n",
    "correlation, _ = pearsonr(house_leaving_times, bedtimes)"
   ]
  },
  {
   "cell_type": "code",
   "execution_count": 9,
   "id": "7215f3a8",
   "metadata": {},
   "outputs": [],
   "source": [
    "# Time-Series Forecasting\n",
    "# I want to forecast the next 5 days for bedtimes and house-leaving times\n",
    "def forecast_next_week(data):\n",
    "    model = ARIMA(data, order=(1,1,1))  # Basic ARIMA model\n",
    "    model_fit = model.fit()\n",
    "    forecast = model_fit.forecast(steps=5)  # Predict next 5 days\n",
    "    return forecast"
   ]
  },
  {
   "cell_type": "code",
   "execution_count": 10,
   "id": "960e7385",
   "metadata": {},
   "outputs": [
    {
     "name": "stderr",
     "output_type": "stream",
     "text": [
      "C:\\Users\\Ella Schlaghecke\\Anaconda3\\lib\\site-packages\\statsmodels\\tsa\\statespace\\sarimax.py:978: UserWarning: Non-invertible starting MA parameters found. Using zeros as starting parameters.\n",
      "  warn('Non-invertible starting MA parameters found.'\n",
      "C:\\Users\\Ella Schlaghecke\\Anaconda3\\lib\\site-packages\\statsmodels\\tsa\\statespace\\sarimax.py:966: UserWarning: Non-stationary starting autoregressive parameters found. Using zeros as starting parameters.\n",
      "  warn('Non-stationary starting autoregressive parameters'\n"
     ]
    }
   ],
   "source": [
    "# For house-leaving times and bedtimes\n",
    "\n",
    "house_leave_forecast = forecast_next_week(house_leaving_times)\n",
    "bedtime_forecast = forecast_next_week(bedtimes)"
   ]
  },
  {
   "cell_type": "code",
   "execution_count": 11,
   "id": "4eaaee5d",
   "metadata": {},
   "outputs": [
    {
     "data": {
      "text/plain": [
       "(-0.1292963673786237,\n",
       " array([8.9678288 , 9.06794739, 9.08937345, 9.09395878, 9.09494007]),\n",
       " array([23.30171288, 23.31809284, 23.31673974, 23.31685151, 23.31684228]))"
      ]
     },
     "execution_count": 11,
     "metadata": {},
     "output_type": "execute_result"
    }
   ],
   "source": [
    "# Output results\n",
    "\n",
    "correlation, house_leave_forecast, bedtime_forecast"
   ]
  },
  {
   "cell_type": "markdown",
   "id": "01093bea",
   "metadata": {},
   "source": [
    "**Based on my past week's data, these are the predicted times for the next 5 days:\n",
    "House-Leaving Times (in hours):**\n",
    "\n",
    "* Day 1: 8.97\n",
    "* Day 2: 9.07\n",
    "* Day 3: 9.09\n",
    "* Day 4: 9.09\n",
    "* Day 5: 9.09\n",
    "\n",
    "**Bedtimes (in hours):**\n",
    "\n",
    "* Day 1: 23.30\n",
    "* Day 2: 23.32\n",
    "* Day 3: 23.32\n",
    "* Day 4: 23.32\n",
    "* Day 5: 23.32\n",
    "\n",
    "**The forecasts suggest that my house-leaving times and bedtimes may remain relatively consistent within the upcoming days.**"
   ]
  },
  {
   "cell_type": "markdown",
   "id": "f80c10b3",
   "metadata": {},
   "source": [
    "#### Correlation Analysis:\n",
    "The correlation between my house-leaving times and bedtimes is around -0.13, which suggests a very weak (and slightly negative) relationship. This means based on this data, there is little to no correlation between the time I leave the house and the time I go to bed."
   ]
  }
 ],
 "metadata": {
  "kernelspec": {
   "display_name": "Python 3 (ipykernel)",
   "language": "python",
   "name": "python3"
  },
  "language_info": {
   "codemirror_mode": {
    "name": "ipython",
    "version": 3
   },
   "file_extension": ".py",
   "mimetype": "text/x-python",
   "name": "python",
   "nbconvert_exporter": "python",
   "pygments_lexer": "ipython3",
   "version": "3.9.12"
  }
 },
 "nbformat": 4,
 "nbformat_minor": 5
}
